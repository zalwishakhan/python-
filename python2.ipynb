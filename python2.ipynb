{
 "cells": [
  {
   "cell_type": "code",
   "execution_count": 1,
   "id": "457c0321-2564-4c12-afef-6fb364abeb21",
   "metadata": {},
   "outputs": [],
   "source": [
    "# string and conditional statements "
   ]
  },
  {
   "cell_type": "code",
   "execution_count": 9,
   "id": "acb44410-3725-4e81-b2d4-2b56792878f6",
   "metadata": {},
   "outputs": [
    {
     "name": "stdout",
     "output_type": "stream",
     "text": [
      "zalwisha khan\n",
      " i am studying\n"
     ]
    }
   ],
   "source": [
    "str1=\"zalwisha khan\\n i am studying\"\n",
    "print(str1)"
   ]
  },
  {
   "cell_type": "code",
   "execution_count": 19,
   "id": "1d832ab8-a26b-4d63-9206-da324e2fc3fe",
   "metadata": {},
   "outputs": [
    {
     "name": "stdout",
     "output_type": "stream",
     "text": [
      "zalwisha khan\n",
      " i am studying python\n",
      "zalwisha khan\n",
      " i am studying python\n"
     ]
    }
   ],
   "source": [
    "str2=\" python\"\n",
    "print(str1+str2)\n",
    "str3=(str1+str2)\n",
    "print(str3)"
   ]
  },
  {
   "cell_type": "code",
   "execution_count": 25,
   "id": "426497ee-0b32-4e81-96fe-decf827bff14",
   "metadata": {},
   "outputs": [
    {
     "name": "stdout",
     "output_type": "stream",
     "text": [
      "35\n"
     ]
    }
   ],
   "source": [
    "len(str3)#or\n",
    "\n",
    "print(len(str3))"
   ]
  },
  {
   "cell_type": "code",
   "execution_count": 35,
   "id": "0a45a44a-e72d-4182-97f4-c3e44b04f0c5",
   "metadata": {},
   "outputs": [
    {
     "data": {
      "text/plain": [
       "'w'"
      ]
     },
     "execution_count": 35,
     "metadata": {},
     "output_type": "execute_result"
    }
   ],
   "source": [
    "str1[3]"
   ]
  },
  {
   "cell_type": "code",
   "execution_count": 37,
   "id": "20ac2e30-5f03-4f0a-8c1b-682abe4f5d72",
   "metadata": {},
   "outputs": [
    {
     "data": {
      "text/plain": [
       "'alwis'"
      ]
     },
     "execution_count": 37,
     "metadata": {},
     "output_type": "execute_result"
    }
   ],
   "source": [
    "str1[1:6]"
   ]
  },
  {
   "cell_type": "code",
   "execution_count": 39,
   "id": "ebc21aa1-05e4-489c-baee-6a255a7423d9",
   "metadata": {},
   "outputs": [
    {
     "data": {
      "text/plain": [
       "'zalwish'"
      ]
     },
     "execution_count": 39,
     "metadata": {},
     "output_type": "execute_result"
    }
   ],
   "source": [
    "str3[:7]"
   ]
  },
  {
   "cell_type": "code",
   "execution_count": 41,
   "id": "b799b16f-b0b7-41df-ad85-eceaaecbb4cb",
   "metadata": {},
   "outputs": [
    {
     "data": {
      "text/plain": [
       "'alwisha khan\\n i am studying python'"
      ]
     },
     "execution_count": 41,
     "metadata": {},
     "output_type": "execute_result"
    }
   ],
   "source": [
    "str3[1:]"
   ]
  },
  {
   "cell_type": "code",
   "execution_count": 53,
   "id": "aa9114a5-f176-4920-9ca3-5d6c81859da9",
   "metadata": {},
   "outputs": [
    {
     "name": "stdout",
     "output_type": "stream",
     "text": [
      "alwisha khan\n",
      " i am studying\n"
     ]
    }
   ],
   "source": [
    "print(str1[1:len(str1)])"
   ]
  },
  {
   "cell_type": "code",
   "execution_count": 59,
   "id": "22caecbc-a1b2-4fd0-9b8a-05c01abf9c0c",
   "metadata": {},
   "outputs": [
    {
     "data": {
      "text/plain": [
       "'ho'"
      ]
     },
     "execution_count": 59,
     "metadata": {},
     "output_type": "execute_result"
    }
   ],
   "source": [
    "str3[-3:-1]"
   ]
  },
  {
   "cell_type": "code",
   "execution_count": 61,
   "id": "63aacf5b-d9e0-4085-bbf9-c7c52e083020",
   "metadata": {},
   "outputs": [
    {
     "data": {
      "text/plain": [
       "False"
      ]
     },
     "execution_count": 61,
     "metadata": {},
     "output_type": "execute_result"
    }
   ],
   "source": [
    "str1.endswith(\"my\")"
   ]
  },
  {
   "cell_type": "code",
   "execution_count": 63,
   "id": "ae3123b8-c175-4fc6-a238-1f2cc8681e7e",
   "metadata": {},
   "outputs": [
    {
     "data": {
      "text/plain": [
       "'Zalwisha khan\\n i am studying'"
      ]
     },
     "execution_count": 63,
     "metadata": {},
     "output_type": "execute_result"
    }
   ],
   "source": [
    "str1.capitalize()"
   ]
  },
  {
   "cell_type": "code",
   "execution_count": 65,
   "id": "9decdfa5-9885-479c-9ca6-dafe6e656785",
   "metadata": {},
   "outputs": [
    {
     "data": {
      "text/plain": [
       "'zaalwishaa khaan\\n i aam studying'"
      ]
     },
     "execution_count": 65,
     "metadata": {},
     "output_type": "execute_result"
    }
   ],
   "source": [
    "str1.replace(\"a\",\"aa\")"
   ]
  },
  {
   "cell_type": "code",
   "execution_count": 69,
   "id": "dc86c61c-db9c-4f7c-818c-522aed8b2da2",
   "metadata": {},
   "outputs": [
    {
     "data": {
      "text/plain": [
       "9"
      ]
     },
     "execution_count": 69,
     "metadata": {},
     "output_type": "execute_result"
    }
   ],
   "source": [
    "str1.find(\"k\")"
   ]
  },
  {
   "cell_type": "code",
   "execution_count": 73,
   "id": "66641480-b1a5-46ae-8bea-c9455c41bdfa",
   "metadata": {},
   "outputs": [
    {
     "data": {
      "text/plain": [
       "1"
      ]
     },
     "execution_count": 73,
     "metadata": {},
     "output_type": "execute_result"
    }
   ],
   "source": [
    "str2.count(\"p\")"
   ]
  },
  {
   "cell_type": "code",
   "execution_count": 1,
   "id": "8614f682-c550-4ac7-932b-407da5cedac5",
   "metadata": {},
   "outputs": [
    {
     "name": "stdin",
     "output_type": "stream",
     "text": [
      "enter name zalwisha khan\n"
     ]
    },
    {
     "name": "stdout",
     "output_type": "stream",
     "text": [
      "length of your name is  13\n"
     ]
    }
   ],
   "source": [
    "my= input (\"enter name\")\n",
    "print(\"length of your name is \" , len(my))"
   ]
  },
  {
   "cell_type": "code",
   "execution_count": 5,
   "id": "6a85a6da-22a2-495f-a5ba-3f2977f4604b",
   "metadata": {},
   "outputs": [
    {
     "name": "stdout",
     "output_type": "stream",
     "text": [
      "4\n"
     ]
    }
   ],
   "source": [
    "str=\"hi i am $ i hav $$$\"\n",
    "print(str.count(\"$\"))"
   ]
  },
  {
   "cell_type": "code",
   "execution_count": 7,
   "id": "9f31b2f3-b8cc-453c-b22a-bf45af932d1a",
   "metadata": {},
   "outputs": [],
   "source": [
    "#conditional statements "
   ]
  },
  {
   "cell_type": "code",
   "execution_count": 15,
   "id": "30d1774a-22bf-40e6-809a-b8ef58b160fb",
   "metadata": {},
   "outputs": [
    {
     "name": "stdout",
     "output_type": "stream",
     "text": [
      "pass\n"
     ]
    }
   ],
   "source": [
    "pa=54\n",
    "if(pa>=54):\n",
    "    print(\"pass\")\n",
    "else:\n",
    "    print(\"fail\")"
   ]
  },
  {
   "cell_type": "code",
   "execution_count": 23,
   "id": "e5a6b8e7-b29d-4b58-adcd-05786619d149",
   "metadata": {},
   "outputs": [
    {
     "name": "stdout",
     "output_type": "stream",
     "text": [
      "gooo\n"
     ]
    }
   ],
   "source": [
    "light = \"green\"\n",
    "if (light==\"red\"):\n",
    "    print(\"stop\")\n",
    "elif(light==\"green\"):\n",
    "    print(\"gooo\")\n",
    "elif(light ==\"yellow\"):\n",
    "    print(\"wait\")\n"
   ]
  },
  {
   "cell_type": "code",
   "execution_count": 25,
   "id": "79bb336b-dfee-4501-a6b0-efd8760b8a25",
   "metadata": {},
   "outputs": [
    {
     "name": "stdout",
     "output_type": "stream",
     "text": [
      "broken\n"
     ]
    }
   ],
   "source": [
    "light = \"blue\"\n",
    "if (light==\"red\"):\n",
    "    print(\"stop\")\n",
    "elif(light==\"green\"):\n",
    "    print(\"gooo\")\n",
    "elif(light ==\"yellow\"):\n",
    "    print(\"wait\")\n",
    "\n",
    "else:\n",
    "    print(\"broken\")"
   ]
  },
  {
   "cell_type": "code",
   "execution_count": 17,
   "id": "ff3f0be4-f4ee-4c96-a10d-100841c5f284",
   "metadata": {},
   "outputs": [],
   "source": [
    "marks=74\n",
    "if(marks>=90):\n",
    "    grade=\"a\"\n",
    "elif(marks>=80 and marks <90 ):\n",
    "    grade=\"b\"\n",
    "elif(marks>=70 and marks <80 ):\n",
    "    grade=\"c\"\n",
    "else:\n",
    "    grade=\"d\"\n",
    "    print (\"the grade is\", grade)"
   ]
  },
  {
   "cell_type": "code",
   "execution_count": 23,
   "id": "7188d796-39f7-4552-b752-710d14dcb2ef",
   "metadata": {},
   "outputs": [
    {
     "name": "stdin",
     "output_type": "stream",
     "text": [
      "enter num 23\n"
     ]
    },
    {
     "name": "stdout",
     "output_type": "stream",
     "text": [
      "odd\n"
     ]
    }
   ],
   "source": [
    "num=int(input(\"enter num\"))\n",
    "rem=num%2\n",
    "if(rem==0):\n",
    "    print(\"even\")\n",
    "else:\n",
    "    print(\"odd\")"
   ]
  },
  {
   "cell_type": "code",
   "execution_count": 29,
   "id": "0c922f92-9bef-4b10-9c7a-0638485f48c3",
   "metadata": {},
   "outputs": [
    {
     "name": "stdin",
     "output_type": "stream",
     "text": [
      "enter num 3\n",
      "enter num 5\n",
      "enter num 2\n"
     ]
    },
    {
     "name": "stdout",
     "output_type": "stream",
     "text": [
      "second is largest 5\n"
     ]
    }
   ],
   "source": [
    "a=int(input(\"enter num\"))\n",
    "b=int(input(\"enter num\"))\n",
    "c=int(input(\"enter num\"))\n",
    "if(a>=b and a>=c):\n",
    "    print(\"1 is largest\",a)\n",
    "elif(b>=c):\n",
    "    print(\"second is largest\",b)\n",
    "else:\n",
    "    print(\"3 is largest\",c)"
   ]
  },
  {
   "cell_type": "code",
   "execution_count": 33,
   "id": "cf8d36cb-e9a3-44e7-935b-fb93d6ae2b39",
   "metadata": {},
   "outputs": [
    {
     "name": "stdin",
     "output_type": "stream",
     "text": [
      "enter num 49\n"
     ]
    },
    {
     "name": "stdout",
     "output_type": "stream",
     "text": [
      "multiple of 7\n"
     ]
    }
   ],
   "source": [
    "num=int(input(\"enter num\"))\n",
    "if(num%7==0):\n",
    "    print(\"multiple of 7\")\n",
    "else:\n",
    "    print(\"not\")"
   ]
  },
  {
   "cell_type": "code",
   "execution_count": null,
   "id": "df0c7d38-df6f-4867-a94b-1b74da8a9c6a",
   "metadata": {},
   "outputs": [],
   "source": []
  }
 ],
 "metadata": {
  "kernelspec": {
   "display_name": "Python [conda env:nlp]",
   "language": "python",
   "name": "conda-env-nlp-py"
  },
  "language_info": {
   "codemirror_mode": {
    "name": "ipython",
    "version": 3
   },
   "file_extension": ".py",
   "mimetype": "text/x-python",
   "name": "python",
   "nbconvert_exporter": "python",
   "pygments_lexer": "ipython3",
   "version": "3.12.7"
  }
 },
 "nbformat": 4,
 "nbformat_minor": 5
}
