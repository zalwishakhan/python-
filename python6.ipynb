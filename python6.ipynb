{
 "cells": [
  {
   "cell_type": "code",
   "execution_count": 5,
   "id": "877c9eeb-2b0b-41d0-a9fe-c993a932226c",
   "metadata": {},
   "outputs": [],
   "source": [
    "# functions--> reduce redunancy "
   ]
  },
  {
   "cell_type": "code",
   "execution_count": 12,
   "id": "0cfc72cf-9578-41b8-b017-1820c09b211c",
   "metadata": {},
   "outputs": [],
   "source": [
    "# func defination \n",
    "def calsum(a,b):# parameter \n",
    "    sum =a+b\n",
    "    return sum "
   ]
  },
  {
   "cell_type": "code",
   "execution_count": 13,
   "id": "75792908-5898-40ad-82d9-a9a011a77e8b",
   "metadata": {},
   "outputs": [
    {
     "data": {
      "text/plain": [
       "3"
      ]
     },
     "execution_count": 13,
     "metadata": {},
     "output_type": "execute_result"
    }
   ],
   "source": [
    "calsum(1,2)"
   ]
  },
  {
   "cell_type": "code",
   "execution_count": 11,
   "id": "842c9e2a-cbcc-45cd-a0c5-6f4e936440c0",
   "metadata": {},
   "outputs": [
    {
     "data": {
      "text/plain": [
       "619"
      ]
     },
     "execution_count": 11,
     "metadata": {},
     "output_type": "execute_result"
    }
   ],
   "source": [
    "calsum(34,585)"
   ]
  },
  {
   "cell_type": "code",
   "execution_count": 16,
   "id": "4a985899-b675-483b-8fbf-8965bd93c108",
   "metadata": {},
   "outputs": [],
   "source": [
    "def printhello():\n",
    "    print(\"helo\")\n",
    "          # no input no output "
   ]
  },
  {
   "cell_type": "raw",
   "id": "d1d6dbdc-9adc-4dab-b3ff-81002f4acc1b",
   "metadata": {},
   "source": []
  },
  {
   "cell_type": "code",
   "execution_count": 17,
   "id": "b22ff012-2bd2-4bbd-bb93-e6f196949945",
   "metadata": {},
   "outputs": [
    {
     "name": "stdout",
     "output_type": "stream",
     "text": [
      "helo\n",
      "hello\n"
     ]
    }
   ],
   "source": [
    "output=printhello()\n",
    "print('hello')"
   ]
  },
  {
   "cell_type": "code",
   "execution_count": 18,
   "id": "8f7e6ff5-399b-4e0e-988a-3fd871d5335f",
   "metadata": {},
   "outputs": [
    {
     "name": "stdout",
     "output_type": "stream",
     "text": [
      "2.0\n"
     ]
    },
    {
     "data": {
      "text/plain": [
       "2.0"
      ]
     },
     "execution_count": 18,
     "metadata": {},
     "output_type": "execute_result"
    }
   ],
   "source": [
    "def calavg(a,b,c):\n",
    "    sum=a+b+c\n",
    "    avg= sum/ 3\n",
    "    print (avg)\n",
    "    return avg \n",
    "calavg(1,2,3)"
   ]
  },
  {
   "cell_type": "code",
   "execution_count": 22,
   "id": "a37bdb49-b980-4950-a013-0ba345f39d9c",
   "metadata": {},
   "outputs": [
    {
     "name": "stdout",
     "output_type": "stream",
     "text": [
      "zalwiha khan\n",
      "zalwiha surname khan\n"
     ]
    }
   ],
   "source": [
    "print('zalwiha',end=\" \")\n",
    "print('khan')\n",
    "print('zalwiha',end=\" surname \")\n",
    "print('khan')"
   ]
  },
  {
   "cell_type": "code",
   "execution_count": 2,
   "id": "4b045305-78d6-4ce9-bc98-69ce776ba247",
   "metadata": {},
   "outputs": [],
   "source": [
    "def calprod(a,b=4):# defualt values from last \n",
    "    print (calprod)\n",
    "    return a*b\n",
    "    calprod(5)  "
   ]
  },
  {
   "cell_type": "code",
   "execution_count": 3,
   "id": "d499f7a9-ac19-441c-a401-b053eac510a8",
   "metadata": {},
   "outputs": [
    {
     "data": {
      "text/plain": [
       "5"
      ]
     },
     "execution_count": 3,
     "metadata": {},
     "output_type": "execute_result"
    }
   ],
   "source": [
    "city=['fsd','lhr','isb','multan','karachi']\n",
    "len(city)"
   ]
  },
  {
   "cell_type": "code",
   "execution_count": 6,
   "id": "c61146b8-030b-4474-8f51-55ec133089d3",
   "metadata": {},
   "outputs": [],
   "source": [
    "city=['fsd','lhr','isb','multan','karachi']\n",
    "def print_len(list):\n",
    "    print(len(list))"
   ]
  },
  {
   "cell_type": "code",
   "execution_count": 10,
   "id": "22734b28-ad9e-42e2-94b3-5b4c8c9c177d",
   "metadata": {},
   "outputs": [
    {
     "name": "stdout",
     "output_type": "stream",
     "text": [
      "120\n"
     ]
    }
   ],
   "source": [
    "n=5\n",
    "def calfac(n):\n",
    "    fact = 1\n",
    "    for i in range(1,n+1):\n",
    "        fact*=i\n",
    "    print(fact)\n",
    "calfac(5)"
   ]
  },
  {
   "cell_type": "code",
   "execution_count": 13,
   "id": "f5ad4ff3-8b9e-46e6-8c17-91875560adf4",
   "metadata": {},
   "outputs": [
    {
     "name": "stdout",
     "output_type": "stream",
     "text": [
      "41 usd = 13161 pkrval\n"
     ]
    }
   ],
   "source": [
    "# usd to pkr\n",
    "def con(usdval):\n",
    "    pkrval=usdval*321\n",
    "    print(usdval,\"usd =\",pkrval,\"pkrval\")\n",
    "con(41)"
   ]
  },
  {
   "cell_type": "code",
   "execution_count": 14,
   "id": "c6bf9b0e-4247-4d96-9070-e57030f2d445",
   "metadata": {},
   "outputs": [],
   "source": [
    "# recursion"
   ]
  },
  {
   "cell_type": "code",
   "execution_count": 3,
   "id": "d804f073-6388-4b58-888b-b7aca9dca851",
   "metadata": {},
   "outputs": [
    {
     "name": "stdout",
     "output_type": "stream",
     "text": [
      "5\n",
      "4\n",
      "3\n",
      "2\n",
      "1\n"
     ]
    }
   ],
   "source": [
    "def show(n):\n",
    "    if(n==0):\n",
    "        return\n",
    "    print(n)\n",
    "    show(n-1)# cant call infinte h=we have to use some kind of conditon \n",
    "show(5)"
   ]
  },
  {
   "cell_type": "code",
   "execution_count": 7,
   "id": "379b0704-2401-4458-adca-07ebd839c092",
   "metadata": {},
   "outputs": [
    {
     "name": "stdout",
     "output_type": "stream",
     "text": [
      "40320\n"
     ]
    }
   ],
   "source": [
    "\n",
    "def fact(n):\n",
    "    if(n==0 or n ==1):\n",
    "        return 1\n",
    "    return fact(n-1)*n\n",
    "print(fact(8))"
   ]
  },
  {
   "cell_type": "code",
   "execution_count": null,
   "id": "0ec3fca7-fddb-40f2-8824-b7ace363eb87",
   "metadata": {},
   "outputs": [],
   "source": []
  },
  {
   "cell_type": "code",
   "execution_count": null,
   "id": "445710e4-d563-4cd4-b83e-fa274170183f",
   "metadata": {},
   "outputs": [],
   "source": []
  },
  {
   "cell_type": "code",
   "execution_count": null,
   "id": "39483995-3cc3-4671-a481-56c0dcf9c503",
   "metadata": {},
   "outputs": [],
   "source": []
  },
  {
   "cell_type": "code",
   "execution_count": null,
   "id": "1f2874e6-614f-47fd-81a2-b77d6552ae75",
   "metadata": {},
   "outputs": [],
   "source": []
  },
  {
   "cell_type": "code",
   "execution_count": null,
   "id": "96285df2-2e81-401c-9703-aba2440a8c1a",
   "metadata": {},
   "outputs": [],
   "source": []
  },
  {
   "cell_type": "code",
   "execution_count": null,
   "id": "cf2bba32-f6b2-4478-903e-5b5274971c45",
   "metadata": {},
   "outputs": [],
   "source": []
  },
  {
   "cell_type": "code",
   "execution_count": null,
   "id": "2b65b59c-17c4-4ba4-bac6-0f8546c6a2bb",
   "metadata": {},
   "outputs": [],
   "source": []
  },
  {
   "cell_type": "code",
   "execution_count": null,
   "id": "40963323-c6ee-4d3c-9af0-1ae490e45c7f",
   "metadata": {},
   "outputs": [],
   "source": []
  },
  {
   "cell_type": "code",
   "execution_count": null,
   "id": "a489930a-87d8-43c4-951a-ba46e4837b56",
   "metadata": {},
   "outputs": [],
   "source": []
  },
  {
   "cell_type": "code",
   "execution_count": null,
   "id": "3eb004d0-2cf8-4b4c-ba25-9073d346bdd5",
   "metadata": {},
   "outputs": [],
   "source": []
  },
  {
   "cell_type": "code",
   "execution_count": null,
   "id": "4f211719-6bac-4a97-91d6-7b3ebc4bdc0e",
   "metadata": {},
   "outputs": [],
   "source": []
  }
 ],
 "metadata": {
  "kernelspec": {
   "display_name": "Python 3 (ipykernel)",
   "language": "python",
   "name": "python3"
  },
  "language_info": {
   "codemirror_mode": {
    "name": "ipython",
    "version": 3
   },
   "file_extension": ".py",
   "mimetype": "text/x-python",
   "name": "python",
   "nbconvert_exporter": "python",
   "pygments_lexer": "ipython3",
   "version": "3.12.7"
  }
 },
 "nbformat": 4,
 "nbformat_minor": 5
}
