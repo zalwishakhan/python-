{
 "cells": [
  {
   "cell_type": "code",
   "execution_count": 2,
   "id": "3d879750-3639-49e4-ab68-44d058eae19e",
   "metadata": {},
   "outputs": [],
   "source": [
    "# list and tuples"
   ]
  },
  {
   "cell_type": "code",
   "execution_count": 19,
   "id": "842788b4-e841-4025-813a-4d0c738daead",
   "metadata": {},
   "outputs": [
    {
     "name": "stdout",
     "output_type": "stream",
     "text": [
      "<class 'list'>\n",
      "8\n",
      "34\n"
     ]
    }
   ],
   "source": [
    "marks=[12,34,67,89,53,14,42,46]# list can change\n",
    "print(type(marks))\n",
    "print(len(marks))\n",
    "print(marks[1])"
   ]
  },
  {
   "cell_type": "code",
   "execution_count": 17,
   "id": "52ee00e8-9a38-4494-a1f3-70968cd03fde",
   "metadata": {},
   "outputs": [
    {
     "name": "stdout",
     "output_type": "stream",
     "text": [
      "<class 'list'>\n",
      "3\n"
     ]
    }
   ],
   "source": [
    "st=['zal',21,'fsd']\n",
    "print(type(st))\n",
    "print(len(st))"
   ]
  },
  {
   "cell_type": "code",
   "execution_count": 21,
   "id": "67753a08-ddfe-4e01-ac64-4e5cd421ebfd",
   "metadata": {},
   "outputs": [
    {
     "name": "stdout",
     "output_type": "stream",
     "text": [
      "['zalwisha', 21, 'fsd']\n"
     ]
    }
   ],
   "source": [
    "st[0]='zalwisha'\n",
    "print(st)\n"
   ]
  },
  {
   "cell_type": "code",
   "execution_count": 23,
   "id": "871d035e-02e0-4ee0-886d-0856d8571064",
   "metadata": {},
   "outputs": [
    {
     "data": {
      "text/plain": [
       "[21, 'fsd']"
      ]
     },
     "execution_count": 23,
     "metadata": {},
     "output_type": "execute_result"
    }
   ],
   "source": [
    "st[1:4]\n"
   ]
  },
  {
   "cell_type": "code",
   "execution_count": 25,
   "id": "a352abe1-848b-458b-a3bb-74c8fb2aed00",
   "metadata": {},
   "outputs": [
    {
     "data": {
      "text/plain": [
       "[34, 67, 89]"
      ]
     },
     "execution_count": 25,
     "metadata": {},
     "output_type": "execute_result"
    }
   ],
   "source": [
    "marks[1:4]"
   ]
  },
  {
   "cell_type": "code",
   "execution_count": 29,
   "id": "967f58f4-7485-48a2-b584-38a99737dc32",
   "metadata": {},
   "outputs": [
    {
     "name": "stdout",
     "output_type": "stream",
     "text": [
      "['zalwisha', 21, 'fsd', 'khan', 'khan']\n"
     ]
    }
   ],
   "source": [
    "st.append('khan')\n",
    "print(st)"
   ]
  },
  {
   "cell_type": "code",
   "execution_count": 37,
   "id": "67b83a1e-2616-4f04-bb8e-0610daf2c8fd",
   "metadata": {},
   "outputs": [
    {
     "name": "stdout",
     "output_type": "stream",
     "text": [
      "[12, 14, 34, 42, 46, 53, 67, 89]\n",
      "[89, 67, 53, 46, 42, 34, 14, 12]\n"
     ]
    }
   ],
   "source": [
    "marks.sort()\n",
    "print(marks)\n",
    "marks.sort(reverse=True)\n",
    "print(marks)\n"
   ]
  },
  {
   "cell_type": "code",
   "execution_count": 47,
   "id": "c8600e00-0a0a-48ea-8485-d011bd224b7f",
   "metadata": {},
   "outputs": [
    {
     "name": "stdout",
     "output_type": "stream",
     "text": [
      "[89, 67, 42, 34, 14, 12]\n"
     ]
    }
   ],
   "source": [
    "marks.pop(2)\n",
    "print(marks)"
   ]
  },
  {
   "cell_type": "code",
   "execution_count": 53,
   "id": "2318c60d-1768-48ec-aa08-76ed7fb06e61",
   "metadata": {},
   "outputs": [
    {
     "name": "stdout",
     "output_type": "stream",
     "text": [
      "2\n",
      "<class 'tuple'>\n"
     ]
    }
   ],
   "source": [
    "tu=(2,3,1,6,5,7,3)\n",
    "print(tu[0])\n",
    "print(type(tu))"
   ]
  },
  {
   "cell_type": "code",
   "execution_count": 57,
   "id": "ceb21951-b5ed-4dee-adaf-29ad1266e80a",
   "metadata": {},
   "outputs": [
    {
     "name": "stdout",
     "output_type": "stream",
     "text": [
      "2\n",
      "<class 'tuple'>\n"
     ]
    }
   ],
   "source": [
    "tu=(2,)\n",
    "print(tu[0])\n",
    "print(type(tu))"
   ]
  },
  {
   "cell_type": "code",
   "execution_count": 59,
   "id": "c9fe2618-f6ca-452e-b1e6-abeb7623d524",
   "metadata": {},
   "outputs": [
    {
     "name": "stdout",
     "output_type": "stream",
     "text": [
      "0\n"
     ]
    }
   ],
   "source": [
    "print(tu.index(2))"
   ]
  },
  {
   "cell_type": "code",
   "execution_count": 63,
   "id": "0c8b7444-4b75-4f13-b82c-0452eeb1ed53",
   "metadata": {},
   "outputs": [
    {
     "name": "stdout",
     "output_type": "stream",
     "text": [
      "1\n"
     ]
    }
   ],
   "source": [
    "print(tu.count(2))"
   ]
  },
  {
   "cell_type": "code",
   "execution_count": 67,
   "id": "cbc670b4-95e4-484a-be12-00fc11d570a6",
   "metadata": {},
   "outputs": [
    {
     "name": "stdin",
     "output_type": "stream",
     "text": [
      "enter 1 movie m\n",
      "enter2 movie e\n",
      "emter3 movie w\n"
     ]
    },
    {
     "name": "stdout",
     "output_type": "stream",
     "text": [
      "['m', 'e', 'w']\n"
     ]
    }
   ],
   "source": [
    "m1=input(\"enter 1 movie\")\n",
    "m2=input(\"enter2 movie\")\n",
    "m3=input(\"emter3 movie\")\n",
    "list=[m1,m2,m3]\n",
    "print(list)\n"
   ]
  },
  {
   "cell_type": "code",
   "execution_count": 69,
   "id": "beb939f9-a576-417b-811b-5de107ac5360",
   "metadata": {},
   "outputs": [
    {
     "name": "stdout",
     "output_type": "stream",
     "text": [
      "not\n"
     ]
    }
   ],
   "source": [
    "list1=[1,2,3]\n",
    "list2=[1,2,1]\n",
    "copy_list1=list1.copy()\n",
    "copy_list1.reverse()\n",
    "if(copy_list1==list1):\n",
    "    print(\"palindrome\")\n",
    "else:\n",
    "    print(\"not\")"
   ]
  },
  {
   "cell_type": "code",
   "execution_count": 71,
   "id": "0b0331c1-3c94-4299-8f18-2932d21dadf8",
   "metadata": {},
   "outputs": [
    {
     "name": "stdout",
     "output_type": "stream",
     "text": [
      "palindrome\n"
     ]
    }
   ],
   "source": [
    "list1=[1,2,3]\n",
    "list2=[1,2,1]\n",
    "copy_list2=list2.copy()\n",
    "copy_list2.reverse()\n",
    "if(copy_list2==list2):\n",
    "    print(\"palindrome\")\n",
    "else:\n",
    "    print(\"not\")"
   ]
  },
  {
   "cell_type": "code",
   "execution_count": 73,
   "id": "7aeccbaa-daaf-4a2f-a321-9e664c83d46f",
   "metadata": {},
   "outputs": [
    {
     "name": "stdout",
     "output_type": "stream",
     "text": [
      "2\n"
     ]
    }
   ],
   "source": [
    "grade = ('a','c','a','f','b','b')\n",
    "print(grade.count('a'))"
   ]
  },
  {
   "cell_type": "code",
   "execution_count": 75,
   "id": "c7295117-1b6b-450e-adc7-8ff6b1ce7b73",
   "metadata": {},
   "outputs": [
    {
     "name": "stdout",
     "output_type": "stream",
     "text": [
      "['a', 'a', 'b', 'b', 'c', 'f']\n"
     ]
    }
   ],
   "source": [
    "grade = ['a','c','a','f','b','b']\n",
    "grade.sort()\n",
    "print(grade)"
   ]
  },
  {
   "cell_type": "code",
   "execution_count": null,
   "id": "9baccf04-568c-4ee4-81d8-a3438b642f58",
   "metadata": {},
   "outputs": [],
   "source": []
  }
 ],
 "metadata": {
  "kernelspec": {
   "display_name": "Python [conda env:nlp]",
   "language": "python",
   "name": "conda-env-nlp-py"
  },
  "language_info": {
   "codemirror_mode": {
    "name": "ipython",
    "version": 3
   },
   "file_extension": ".py",
   "mimetype": "text/x-python",
   "name": "python",
   "nbconvert_exporter": "python",
   "pygments_lexer": "ipython3",
   "version": "3.12.7"
  }
 },
 "nbformat": 4,
 "nbformat_minor": 5
}
