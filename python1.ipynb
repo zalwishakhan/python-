{
 "cells": [
  {
   "cell_type": "code",
   "execution_count": 1,
   "id": "008816a3-bd4b-449a-8acc-9d62de651c26",
   "metadata": {},
   "outputs": [
    {
     "name": "stdout",
     "output_type": "stream",
     "text": [
      "heelo\n"
     ]
    }
   ],
   "source": [
    "print(\"heelo\")"
   ]
  },
  {
   "cell_type": "code",
   "execution_count": 2,
   "id": "b0deda0c-e42e-47ac-b64c-f4773bcec818",
   "metadata": {},
   "outputs": [
    {
     "name": "stdout",
     "output_type": "stream",
     "text": [
      "'heelo'\n"
     ]
    }
   ],
   "source": [
    "print(\"'heelo'\")"
   ]
  },
  {
   "cell_type": "code",
   "execution_count": 3,
   "id": "52106766-33d6-495d-af21-e1d8e597cd5b",
   "metadata": {},
   "outputs": [
    {
     "name": "stdout",
     "output_type": "stream",
     "text": [
      "heeloo bye\n"
     ]
    }
   ],
   "source": [
    "print(\"heeloo\",\"bye\")"
   ]
  },
  {
   "cell_type": "code",
   "execution_count": 4,
   "id": "0e1afb20-547f-4ddd-a91c-56f3d1d38515",
   "metadata": {},
   "outputs": [
    {
     "name": "stdout",
     "output_type": "stream",
     "text": [
      "3347\n"
     ]
    }
   ],
   "source": [
    "print(3347)"
   ]
  },
  {
   "cell_type": "code",
   "execution_count": 6,
   "id": "ad88f1c1-f1de-4774-b125-e760679bac33",
   "metadata": {},
   "outputs": [
    {
     "name": "stdout",
     "output_type": "stream",
     "text": [
      "68\n",
      "13\n",
      "21\n"
     ]
    }
   ],
   "source": [
    "print(23+45)\n",
    "print(45-32)\n",
    "print(3*7)"
   ]
  },
  {
   "cell_type": "code",
   "execution_count": 13,
   "id": "b0be5b35-08ad-40a2-8358-dd97db7b08a4",
   "metadata": {},
   "outputs": [
    {
     "name": "stdout",
     "output_type": "stream",
     "text": [
      "21\n",
      "zal\n",
      "my name is :  zal\n"
     ]
    }
   ],
   "source": [
    "name=\"zal\"\n",
    "age=21\n",
    "print (age) \n",
    "print(name)\n",
    "print(\"my name is : \" , name)"
   ]
  },
  {
   "cell_type": "code",
   "execution_count": 15,
   "id": "c5bf666b-9f8c-42b0-9fc2-de1dc2a32102",
   "metadata": {},
   "outputs": [
    {
     "name": "stdout",
     "output_type": "stream",
     "text": [
      "21\n"
     ]
    }
   ],
   "source": [
    "age2=age\n",
    "print(age2)"
   ]
  },
  {
   "cell_type": "code",
   "execution_count": 16,
   "id": "1872220b-d541-4007-83c4-6a3802d67424",
   "metadata": {},
   "outputs": [
    {
     "name": "stdout",
     "output_type": "stream",
     "text": [
      "<class 'str'>\n",
      "<class 'int'>\n"
     ]
    }
   ],
   "source": [
    "print(type(name))\n",
    "print(type(age))"
   ]
  },
  {
   "cell_type": "code",
   "execution_count": 18,
   "id": "b38ccbc6-9891-4775-aad6-791f2b1a67c3",
   "metadata": {},
   "outputs": [
    {
     "name": "stdout",
     "output_type": "stream",
     "text": [
      "<class 'bool'> None\n"
     ]
    }
   ],
   "source": [
    "old=False\n",
    "a=None\n",
    "print(type(old),(a))"
   ]
  },
  {
   "cell_type": "code",
   "execution_count": 20,
   "id": "5b2fa72b-9717-4593-b217-ab1efe0dfd70",
   "metadata": {},
   "outputs": [
    {
     "name": "stdout",
     "output_type": "stream",
     "text": [
      "3\n"
     ]
    }
   ],
   "source": [
    "a=1\n",
    "b=2\n",
    "sum=a+b\n",
    "print(sum)"
   ]
  },
  {
   "cell_type": "code",
   "execution_count": 23,
   "id": "c11a9b8e-b69b-4f53-b3f4-3bb0b24081e7",
   "metadata": {},
   "outputs": [
    {
     "name": "stdout",
     "output_type": "stream",
     "text": [
      "13\n",
      "1\n",
      "1.1666666666666667\n",
      "42\n",
      "1\n",
      "117649\n"
     ]
    }
   ],
   "source": [
    "#aithmetic \n",
    "a=7\n",
    "b=6\n",
    "print(a+b)\n",
    "print(a-b)\n",
    "print(a/b)\n",
    "print(a*b)\n",
    "print(a%b)# reminder\n",
    "print(a**b)#power 7 ki pwr 6 \n"
   ]
  },
  {
   "cell_type": "code",
   "execution_count": 24,
   "id": "6247c610-52b5-4252-8052-044d6aa146d7",
   "metadata": {},
   "outputs": [
    {
     "name": "stdout",
     "output_type": "stream",
     "text": [
      "False\n",
      "True\n",
      "True\n",
      "False\n"
     ]
    }
   ],
   "source": [
    "# relational\n",
    "a=50\n",
    "b=30\n",
    "print(a==b)\n",
    "print(a!=b)\n",
    "print(a>=b)\n",
    "print(a<=b)"
   ]
  },
  {
   "cell_type": "code",
   "execution_count": 25,
   "id": "66e28916-7aad-4831-809a-2cfe2b267e90",
   "metadata": {},
   "outputs": [
    {
     "name": "stdout",
     "output_type": "stream",
     "text": [
      "30\n"
     ]
    }
   ],
   "source": [
    "#assigment \n",
    "num=20\n",
    "num+=10\n",
    "print(num)"
   ]
  },
  {
   "cell_type": "code",
   "execution_count": 27,
   "id": "f75abb10-2cda-4530-8034-8c8b1652368a",
   "metadata": {},
   "outputs": [
    {
     "name": "stdout",
     "output_type": "stream",
     "text": [
      "False\n",
      "False\n",
      "True\n"
     ]
    }
   ],
   "source": [
    "#logical\n",
    "a=10\n",
    "b=5\n",
    "print(not(a>b))\n",
    "val1=True\n",
    "val2=False\n",
    "print(val1 and val2)\n",
    "print ((a==b) or (a>b))"
   ]
  },
  {
   "cell_type": "code",
   "execution_count": 29,
   "id": "2a6a2f6b-499b-416e-9b74-3af6a9d7e0da",
   "metadata": {},
   "outputs": [
    {
     "name": "stdout",
     "output_type": "stream",
     "text": [
      "6.5\n",
      "6.5\n"
     ]
    }
   ],
   "source": [
    "# type conversion --automatic convert \n",
    "# casting --manuually convert \n",
    "a=2\n",
    "b=4.5\n",
    "sum2=a+b\n",
    "print(sum2)\n",
    "\n",
    "'''c=\"3\"\n",
    "d=8\n",
    "sum3=c+b\n",
    "print (sum3)'''\n",
    "\n",
    "#casting \n",
    "e=int(\"2\")\n",
    "f=4.5\n",
    "sum4= e+f\n",
    "print(sum4)"
   ]
  },
  {
   "cell_type": "code",
   "execution_count": 33,
   "id": "32cfe40c-172f-4c61-b472-0af2ddb62599",
   "metadata": {},
   "outputs": [
    {
     "name": "stdin",
     "output_type": "stream",
     "text": [
      "enter name zal\n"
     ]
    },
    {
     "name": "stdout",
     "output_type": "stream",
     "text": [
      "welcome zal\n"
     ]
    },
    {
     "name": "stdin",
     "output_type": "stream",
     "text": [
      "age 21\n"
     ]
    },
    {
     "name": "stdout",
     "output_type": "stream",
     "text": [
      "<class 'str'> 21\n"
     ]
    }
   ],
   "source": [
    "name=input(\"enter name\")\n",
    "print(\"welcome\",name)\n",
    "val=input(\"age\")\n",
    "print(type(val),val)# uski type or sth print ho "
   ]
  },
  {
   "cell_type": "code",
   "execution_count": 34,
   "id": "9d10cc65-91fe-4ebd-8a21-3c0268d1f358",
   "metadata": {},
   "outputs": [
    {
     "name": "stdin",
     "output_type": "stream",
     "text": [
      "age 21\n"
     ]
    },
    {
     "name": "stdout",
     "output_type": "stream",
     "text": [
      "<class 'int'> 21\n"
     ]
    }
   ],
   "source": [
    "int(\"21\")\n",
    "val=int(input(\"age\"))\n",
    "print(type(val),val)"
   ]
  },
  {
   "cell_type": "code",
   "execution_count": 35,
   "id": "a2444f11-4f4b-4fd1-8050-d79ed7189630",
   "metadata": {},
   "outputs": [
    {
     "name": "stdin",
     "output_type": "stream",
     "text": [
      "name za;\n",
      "age 21\n",
      "marks 34\n"
     ]
    },
    {
     "name": "stdout",
     "output_type": "stream",
     "text": [
      "welcome za; my age is 21 my marks are 34\n"
     ]
    }
   ],
   "source": [
    "name=input(\"name\")\n",
    "age=input(\"age\")\n",
    "marks=input(\"marks\")\n",
    "print(\"welcome\",name,\"my age is\",age,\"my marks are\",marks)"
   ]
  },
  {
   "cell_type": "code",
   "execution_count": 38,
   "id": "2bb1e410-abd7-4c5c-b8d2-1faea1a60f09",
   "metadata": {},
   "outputs": [
    {
     "name": "stdin",
     "output_type": "stream",
     "text": [
      "enter num 2\n",
      "enter num 3\n"
     ]
    },
    {
     "name": "stdout",
     "output_type": "stream",
     "text": [
      "5\n"
     ]
    }
   ],
   "source": [
    "a=int(input(\"enter num\"))\n",
    "b=int(input(\"enter num\"))\n",
    "sum=a+b\n",
    "print(sum)"
   ]
  },
  {
   "cell_type": "code",
   "execution_count": 39,
   "id": "5af114db-d088-4fb3-84ca-80f8b5c86e8e",
   "metadata": {},
   "outputs": [
    {
     "name": "stdin",
     "output_type": "stream",
     "text": [
      "enter side 3.3\n"
     ]
    },
    {
     "name": "stdout",
     "output_type": "stream",
     "text": [
      "area= 10.889999999999999\n"
     ]
    }
   ],
   "source": [
    "#input side of sq and print area \n",
    "side=float(input(\"enter side\"))\n",
    "print(\"area=\",side**2)"
   ]
  },
  {
   "cell_type": "code",
   "execution_count": 40,
   "id": "d71e802d-0d63-4836-b637-eafc3e4ae084",
   "metadata": {},
   "outputs": [
    {
     "name": "stdin",
     "output_type": "stream",
     "text": [
      "enter num 3\n",
      "enter num 2\n"
     ]
    },
    {
     "name": "stdout",
     "output_type": "stream",
     "text": [
      "avg= 0.75\n"
     ]
    }
   ],
   "source": [
    "#2 float num avg \n",
    "a=float(input(\"enter num\"))\n",
    "b=float(input(\"enter num\"))\n",
    "print(\"avg=\",(a/b)/2)"
   ]
  },
  {
   "cell_type": "code",
   "execution_count": 41,
   "id": "eb168f71-5058-4b78-9608-8379cd5e1acb",
   "metadata": {},
   "outputs": [
    {
     "name": "stdin",
     "output_type": "stream",
     "text": [
      "enter num 3\n",
      "enter num 2\n"
     ]
    },
    {
     "name": "stdout",
     "output_type": "stream",
     "text": [
      "True\n"
     ]
    }
   ],
   "source": [
    "a=int(input(\"enter num\"))\n",
    "b=int(input(\"enter num\"))\n",
    "print(a>=b)\n"
   ]
  },
  {
   "cell_type": "code",
   "execution_count": null,
   "id": "76103dfa-a060-421e-9314-3b3641e067c4",
   "metadata": {},
   "outputs": [],
   "source": []
  }
 ],
 "metadata": {
  "kernelspec": {
   "display_name": "Python 3 (ipykernel)",
   "language": "python",
   "name": "python3"
  },
  "language_info": {
   "codemirror_mode": {
    "name": "ipython",
    "version": 3
   },
   "file_extension": ".py",
   "mimetype": "text/x-python",
   "name": "python",
   "nbconvert_exporter": "python",
   "pygments_lexer": "ipython3",
   "version": "3.12.7"
  }
 },
 "nbformat": 4,
 "nbformat_minor": 5
}
