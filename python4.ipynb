{
 "cells": [
  {
   "cell_type": "code",
   "execution_count": 4,
   "id": "b2bef45c-ebe8-4f32-9619-dc6e9b2c3cad",
   "metadata": {},
   "outputs": [],
   "source": [
    "# dictionary and sets\n"
   ]
  },
  {
   "cell_type": "code",
   "execution_count": 6,
   "id": "a6c62975-c5aa-4339-80b9-509fd3640d1a",
   "metadata": {},
   "outputs": [],
   "source": [
    "#dictionary-->use to ata values in key values pairs, mutable ,no duplicate keys "
   ]
  },
  {
   "cell_type": "code",
   "execution_count": 20,
   "id": "a7f9b8bc-3e08-4a54-9e16-96482db737a3",
   "metadata": {},
   "outputs": [
    {
     "name": "stdout",
     "output_type": "stream",
     "text": [
      "{'key': 'values', 'name': 'zal', 'learning': 'python', 'age': 21, 'girl': True, 'gpa': 3.4}\n"
     ]
    }
   ],
   "source": [
    "dict={\"key\" : \"values\",\n",
    "      \"name\" : \"zal\",\n",
    "    \"learning\" : \"python\",\n",
    "     \"age\" : 21,\n",
    "     \"girl\" : True,\n",
    "     \"gpa\" : 3.4}\n",
    "print(dict)\n",
    "#no idex..>no order, no repeat "
   ]
  },
  {
   "cell_type": "code",
   "execution_count": 24,
   "id": "d729ea93-5dac-4a79-9613-6388588aa429",
   "metadata": {},
   "outputs": [
    {
     "name": "stdout",
     "output_type": "stream",
     "text": [
      "zal\n"
     ]
    }
   ],
   "source": [
    "print(dict[\"name\"])"
   ]
  },
  {
   "cell_type": "code",
   "execution_count": 26,
   "id": "6024277c-930d-4b3d-9537-088130f120ef",
   "metadata": {},
   "outputs": [
    {
     "name": "stdout",
     "output_type": "stream",
     "text": [
      "zalwisha\n"
     ]
    }
   ],
   "source": [
    "dict[\"name\"] = \"zalwisha\"\n",
    "print(dict[\"name\"])"
   ]
  },
  {
   "cell_type": "code",
   "execution_count": 28,
   "id": "93880746-f3cd-43ff-8ffc-853afc218613",
   "metadata": {},
   "outputs": [
    {
     "name": "stdout",
     "output_type": "stream",
     "text": [
      "{'key': 'values', 'name': 'zalwisha', 'learning': 'python', 'age': 21, 'girl': True, 'gpa': 3.4, 'surname': 'khan'}\n"
     ]
    }
   ],
   "source": [
    "dict[\"surname\"] = \"khan\"\n",
    "print(dict)"
   ]
  },
  {
   "cell_type": "code",
   "execution_count": 30,
   "id": "03f2084d-a372-44b7-aa81-1b4fe1626c8b",
   "metadata": {},
   "outputs": [
    {
     "name": "stdout",
     "output_type": "stream",
     "text": [
      "{}\n"
     ]
    }
   ],
   "source": [
    "dict2={}\n",
    "print(dict2)"
   ]
  },
  {
   "cell_type": "code",
   "execution_count": 34,
   "id": "2833ff10-4a22-4b0e-ac17-55440b3db08d",
   "metadata": {},
   "outputs": [
    {
     "name": "stdout",
     "output_type": "stream",
     "text": [
      "{'name': 'zalwisha', 'subjects': {'urdu': 1, 'eng': 2}}\n"
     ]
    }
   ],
   "source": [
    "st={\n",
    "    'name':'zalwisha',\n",
    "    'subjects':{\n",
    "    'urdu' : 1,\n",
    "    'eng': 2}}\n",
    "print(st)"
   ]
  },
  {
   "cell_type": "code",
   "execution_count": 38,
   "id": "1b1a5230-fe4d-4a2d-81fc-e167dd4c7935",
   "metadata": {},
   "outputs": [
    {
     "name": "stdout",
     "output_type": "stream",
     "text": [
      "{'urdu': 1, 'eng': 2}\n",
      "1\n"
     ]
    }
   ],
   "source": [
    "print(st['subjects'])\n",
    "print(st['subjects']['urdu'])"
   ]
  },
  {
   "cell_type": "code",
   "execution_count": 46,
   "id": "d275b2c3-1122-4a03-a1bb-d0051570df30",
   "metadata": {},
   "outputs": [
    {
     "name": "stdout",
     "output_type": "stream",
     "text": [
      "dict_keys(['name', 'subjects'])\n"
     ]
    }
   ],
   "source": [
    "print(st.keys())\n",
    "#outer keys not nested"
   ]
  },
  {
   "cell_type": "code",
   "execution_count": 50,
   "id": "fab1d8cb-a9eb-4087-9dbf-facf6a1aa14a",
   "metadata": {},
   "outputs": [
    {
     "name": "stdout",
     "output_type": "stream",
     "text": [
      "2\n"
     ]
    }
   ],
   "source": [
    "# type cast to list + lenggth \n",
    "print(len(list(st.keys())))"
   ]
  },
  {
   "cell_type": "code",
   "execution_count": 54,
   "id": "b44f37ec-b389-4b4f-bb86-45e3763f0ca8",
   "metadata": {},
   "outputs": [
    {
     "name": "stdout",
     "output_type": "stream",
     "text": [
      "['zalwisha', {'urdu': 1, 'eng': 2}]\n"
     ]
    }
   ],
   "source": [
    "print(list(st.values()))"
   ]
  },
  {
   "cell_type": "code",
   "execution_count": 56,
   "id": "d9564bca-b93e-483c-964c-e4234bedf13e",
   "metadata": {},
   "outputs": [
    {
     "name": "stdout",
     "output_type": "stream",
     "text": [
      "dict_items([('name', 'zalwisha'), ('subjects', {'urdu': 1, 'eng': 2})])\n"
     ]
    }
   ],
   "source": [
    "print(st.items())"
   ]
  },
  {
   "cell_type": "code",
   "execution_count": 58,
   "id": "a7a64ff3-20ef-4a20-93b8-8fb206d577df",
   "metadata": {},
   "outputs": [
    {
     "data": {
      "text/plain": [
       "'zalwisha'"
      ]
     },
     "execution_count": 58,
     "metadata": {},
     "output_type": "execute_result"
    }
   ],
   "source": [
    "st.get(\"name\")"
   ]
  },
  {
   "cell_type": "code",
   "execution_count": 64,
   "id": "49b30602-b3d9-4c5e-a714-ceb366f7943d",
   "metadata": {},
   "outputs": [
    {
     "name": "stdout",
     "output_type": "stream",
     "text": [
      "{'name': 'zalwisha', 'subjects': {'urdu': 1, 'eng': 2}, 'city': 'fsd'}\n"
     ]
    }
   ],
   "source": [
    "st.update({\"city\":\"fsd\"})\n",
    "print(st)\n",
    "#if create duplicate key then old value of that key will be update not new added "
   ]
  },
  {
   "cell_type": "code",
   "execution_count": 70,
   "id": "21c486a7-a1d8-4b29-be4c-c82d10727641",
   "metadata": {},
   "outputs": [],
   "source": [
    "#sets \n",
    "# muct be unique & imutable , un ordered \n",
    "# list and dict cant be stored in sets "
   ]
  },
  {
   "cell_type": "code",
   "execution_count": 89,
   "id": "f9c8ae50-0d31-45e2-9935-6230ff458733",
   "metadata": {},
   "outputs": [
    {
     "name": "stdout",
     "output_type": "stream",
     "text": [
      "<class 'str'>\n"
     ]
    }
   ],
   "source": [
    "col={1,2,3,4,\"hello\",\"hi\"}\n",
    "print(type('col'))"
   ]
  },
  {
   "cell_type": "code",
   "execution_count": 85,
   "id": "2a2c8e68-479b-435f-abdc-b45f4b4c0091",
   "metadata": {},
   "outputs": [
    {
     "name": "stdout",
     "output_type": "stream",
     "text": [
      "set()\n"
     ]
    }
   ],
   "source": [
    "# empty set \n",
    "col1=set()\n",
    "print(col1)"
   ]
  },
  {
   "cell_type": "code",
   "execution_count": 95,
   "id": "53d31a0f-d328-4ffc-9acb-004eb3c03b83",
   "metadata": {},
   "outputs": [
    {
     "name": "stdout",
     "output_type": "stream",
     "text": [
      "{1, 2, 3, 4, 6, 'hi', 'hello'}\n"
     ]
    }
   ],
   "source": [
    "# sets are mutable bt item/elementss are not \n",
    "col.add(6)\n",
    "print(col)"
   ]
  },
  {
   "cell_type": "code",
   "execution_count": 97,
   "id": "b3b13e61-3ed5-4748-9cf0-d22a6d016947",
   "metadata": {},
   "outputs": [
    {
     "name": "stdout",
     "output_type": "stream",
     "text": [
      "{1, 2, 3, 4, 6, 'hello'}\n"
     ]
    }
   ],
   "source": [
    "col.remove('hi')\n",
    "print(col)"
   ]
  },
  {
   "cell_type": "code",
   "execution_count": 107,
   "id": "5ae55c6b-9cb6-4c0d-898f-6790479d8505",
   "metadata": {},
   "outputs": [
    {
     "name": "stdout",
     "output_type": "stream",
     "text": [
      "{1, 2, 3, 4, 5, 6, 'hello'}\n"
     ]
    }
   ],
   "source": [
    "col.add(5)\n",
    "print(col)"
   ]
  },
  {
   "cell_type": "code",
   "execution_count": 111,
   "id": "8ec2022e-e2ef-4469-9f7c-a900eb6d61a2",
   "metadata": {},
   "outputs": [
    {
     "name": "stdout",
     "output_type": "stream",
     "text": [
      "{2, 3, 4, 5, 6, 'hello'}\n"
     ]
    }
   ],
   "source": [
    "col.pop()\n",
    "print(col)"
   ]
  },
  {
   "cell_type": "code",
   "execution_count": 119,
   "id": "95ed6250-36cf-4ad4-be30-7cd61ebe2e31",
   "metadata": {},
   "outputs": [
    {
     "data": {
      "text/plain": [
       "{1, 2, 3, 4, 5, 6, 7, 8, 9, 'hello'}"
      ]
     },
     "execution_count": 119,
     "metadata": {},
     "output_type": "execute_result"
    }
   ],
   "source": [
    "col2={1,7,8,9,3,2}\n",
    "col.union(col2)"
   ]
  },
  {
   "cell_type": "code",
   "execution_count": 121,
   "id": "120afb93-60f2-481a-ad2b-7d3577e82066",
   "metadata": {},
   "outputs": [
    {
     "data": {
      "text/plain": [
       "{2, 3}"
      ]
     },
     "execution_count": 121,
     "metadata": {},
     "output_type": "execute_result"
    }
   ],
   "source": [
    "col.intersection(col2)"
   ]
  },
  {
   "cell_type": "code",
   "execution_count": 123,
   "id": "e6d07706-449e-45b1-afd3-b79d37fbc9d0",
   "metadata": {},
   "outputs": [],
   "source": [
    "#practice questions"
   ]
  },
  {
   "cell_type": "code",
   "execution_count": 139,
   "id": "436560a6-da58-44d9-842d-5934f2efb2dd",
   "metadata": {},
   "outputs": [
    {
     "name": "stdout",
     "output_type": "stream",
     "text": [
      "{'table': ['a piece of furniture', 'list of fact & figures'], 'cat': 'a small animal'}\n"
     ]
    }
   ],
   "source": [
    "p1={'table':['a piece of furniture','list of fact & figures'],\n",
    "    'cat':'a small animal'}\n",
    "print(p1)"
   ]
  },
  {
   "cell_type": "code",
   "execution_count": 143,
   "id": "21638134-1219-427e-bfba-98e68f89b480",
   "metadata": {},
   "outputs": [
    {
     "name": "stdout",
     "output_type": "stream",
     "text": [
      "5\n"
     ]
    }
   ],
   "source": [
    "# you are given a list of sub for students . assume one class os req for 1 sub how many classes are needed by all st ?\n",
    "# python,jaba,c++,python , javascript , java,python ,java,c++,c....>ans is 5\n",
    "sub={'python','java','c++','python','javascript','java','python','java','c++','c'}\n",
    "print(len(sub))"
   ]
  },
  {
   "cell_type": "code",
   "execution_count": 157,
   "id": "8fdde14b-bd9e-498e-ac09-a2ff2ee7bd03",
   "metadata": {},
   "outputs": [
    {
     "name": "stdin",
     "output_type": "stream",
     "text": [
      "eng :  1\n",
      "urdu :  2\n",
      "math :  3\n"
     ]
    },
    {
     "name": "stdout",
     "output_type": "stream",
     "text": [
      "{'eng': 1, 'urdu': 2, 'math': 3}\n"
     ]
    }
   ],
   "source": [
    "# enter maks of 3 st from user and stoore them n a dict start with an empty dict and add one by one use subjects name as key and marks as value \n",
    "dic={}\n",
    "x = int(input(\"eng : \"))\n",
    "dic.update({\"eng\" : x})\n",
    "\n",
    "x = int(input(\"urdu : \"))\n",
    "dic.update({\"urdu\" : x})\n",
    "\n",
    "x = int(input(\"math : \"))\n",
    "dic.update({\"math\" : x})\n",
    "print(dic)"
   ]
  },
  {
   "cell_type": "code",
   "execution_count": 159,
   "id": "5eb817fb-e630-4ddf-a22a-84f0ddc0a833",
   "metadata": {},
   "outputs": [
    {
     "name": "stdout",
     "output_type": "stream",
     "text": [
      "{9, '9.0'}\n"
     ]
    }
   ],
   "source": [
    "# figure out a way to store 9 an d9.0 as seprate values in the set \n",
    "val={'9.0',9}\n",
    "print(val)"
   ]
  },
  {
   "cell_type": "code",
   "execution_count": 165,
   "id": "606ac809-4fb7-4750-ba9e-2abde6290711",
   "metadata": {},
   "outputs": [
    {
     "name": "stdout",
     "output_type": "stream",
     "text": [
      "{('int', 9), ('float', 9.0)}\n"
     ]
    }
   ],
   "source": [
    "#use tuple bcz cant add dic to set bcz it is mutable and tuples can be use in sets \n",
    "value={\n",
    "    ('float' , 9.0), \n",
    "    ('int' , 9),}\n",
    "print(value)"
   ]
  },
  {
   "cell_type": "code",
   "execution_count": null,
   "id": "d26afd3b-d77c-4d05-9312-29f128b634bb",
   "metadata": {},
   "outputs": [],
   "source": []
  }
 ],
 "metadata": {
  "kernelspec": {
   "display_name": "Python [conda env:nlp]",
   "language": "python",
   "name": "conda-env-nlp-py"
  },
  "language_info": {
   "codemirror_mode": {
    "name": "ipython",
    "version": 3
   },
   "file_extension": ".py",
   "mimetype": "text/x-python",
   "name": "python",
   "nbconvert_exporter": "python",
   "pygments_lexer": "ipython3",
   "version": "3.12.7"
  }
 },
 "nbformat": 4,
 "nbformat_minor": 5
}
